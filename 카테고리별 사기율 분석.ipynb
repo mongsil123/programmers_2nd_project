{
 "cells": [
  {
   "cell_type": "markdown",
   "id": "ec47b221",
   "metadata": {},
   "source": [
    "# 1. 카테고리별 사기 주문 횟수"
   ]
  },
  {
   "cell_type": "markdown",
   "id": "e1bc3542",
   "metadata": {},
   "source": [
    "### 사기&사기가 아닌 것 카테고리별 주문 비율"
   ]
  },
  {
   "cell_type": "code",
   "execution_count": null,
   "id": "9ae2db93",
   "metadata": {},
   "outputs": [],
   "source": [
    "# 사기여부\n",
    "fraudulent_data = data[data['Is Fraudulent'] == 1]\n",
    "non_fraudulent_data = data[data['Is Fraudulent'] == 0]\n",
    "\n",
    "# 비율\n",
    "fraudulent_counts = fraudulent_data['Product Category'].value_counts(normalize=True) * 100\n",
    "non_fraudulent_counts = non_fraudulent_data['Product Category'].value_counts(normalize=True) * 100\n",
    "\n",
    "# 사기 그래프\n",
    "plt.figure(figsize=(15, 6))\n",
    "plt.subplot(1, 2, 1)\n",
    "plt.pie(fraudulent_counts, labels=fraudulent_counts.index, autopct='%1.2f%%', startangle=140)\n",
    "plt.title('Fraudulent Transactions by Product Category')\n",
    "\n",
    "# 비사기 거래 그래프\n",
    "plt.subplot(1, 2, 2)\n",
    "plt.pie(non_fraudulent_counts, labels=non_fraudulent_counts.index, autopct='%1.2f%%', startangle=140)\n",
    "plt.title('Non-Fraudulent Transactions by Product Category')\n",
    "\n",
    "plt.tight_layout()\n",
    "plt.show()"
   ]
  },
  {
   "cell_type": "markdown",
   "id": "142c5293",
   "metadata": {},
   "source": [
    "### 각각 사기&사기 아닌 것 주문 횟수"
   ]
  },
  {
   "cell_type": "code",
   "execution_count": null,
   "id": "af51c794",
   "metadata": {},
   "outputs": [],
   "source": [
    "plt.figure(figsize=(10, 6))\n",
    "\n",
    "# 사기o 횟수\n",
    "plt.subplot(1, 2, 1)\n",
    "sns.countplot(x='Product Category', data=data[data['Is Fraudulent'] == 1], color='#FF8000')\n",
    "plt.title('Fraudulent Transactions by Product Category')\n",
    "plt.xlabel('Product Category')\n",
    "plt.ylabel('Count')\n",
    "plt.xticks(rotation=45)\n",
    "plt.ylim(14200,15200)\n",
    "for p in plt.gca().patches:\n",
    "    plt.gca().annotate(f'{int(p.get_height())}', (p.get_x() + p.get_width() / 2., p.get_height()), ha='center', va='center', xytext=(0, 10), textcoords='offset points')\n",
    "\n",
    "# 사기x 횟수\n",
    "plt.subplot(1, 2, 2)\n",
    "sns.countplot(x='Product Category', data=data[data['Is Fraudulent'] == 0])\n",
    "plt.title('Non-Fraudulent Transactions by Product Category')\n",
    "plt.xlabel('Product Category')\n",
    "plt.ylabel('Count')\n",
    "plt.xticks(rotation=45)\n",
    "plt.ylim(270000,285000)\n",
    "for p in plt.gca().patches:\n",
    "    plt.gca().annotate(f'{int(p.get_height())}', (p.get_x() + p.get_width() / 2., p.get_height()), ha='center', va='center', xytext=(0, 10), textcoords='offset points')\n",
    "\n",
    "plt.tight_layout()\n",
    "plt.show()\n"
   ]
  },
  {
   "cell_type": "markdown",
   "id": "813e54fe",
   "metadata": {},
   "source": [
    "### 카테고리 내에서 사기인 물품과 아닌 물품의 비율"
   ]
  },
  {
   "cell_type": "code",
   "execution_count": null,
   "id": "a5e7944a",
   "metadata": {},
   "outputs": [],
   "source": [
    "#각 카테고리별 주문 비율 대비 사기o, 사기x 비율\n",
    "plt.figure(figsize=(10, 6))\n",
    "sns.countplot(x='Product Category', hue='Is Fraudulent', data=data)\n",
    "plt.title('Product Category vs. Fraudulent Transactions')\n",
    "plt.xlabel('Product Category')\n",
    "plt.ylabel('Count')\n",
    "plt.xticks(rotation=45)\n",
    "plt.legend(title='Is Fraudulent', labels=['No', 'Yes'])\n",
    "\n",
    "\n",
    "total_transactions = len(data)\n",
    "\n",
    "for index, category in enumerate(data['Product Category'].unique()):\n",
    "    no_count = len(data[(data['Product Category'] == category) & (data['Is Fraudulent'] == 0)])\n",
    "    yes_count = len(data[(data['Product Category'] == category) & (data['Is Fraudulent'] == 1)])\n",
    "\n",
    "    total_count = no_count + yes_count\n",
    "    no_ratio = (no_count / total_count) * 100\n",
    "    yes_ratio = (yes_count / total_count) * 100\n",
    "\n",
    "    plt.text(index - 0.2, no_count, f'{no_ratio:.3f}%', color='black', ha='center', va='bottom')\n",
    "    plt.text(index + 0.2, yes_count, f'{yes_ratio:.3f}%', color='black', ha='center', va='bottom')\n",
    "\n",
    "plt.tight_layout()\n",
    "plt.show()"
   ]
  },
  {
   "cell_type": "markdown",
   "id": "92e411f6",
   "metadata": {},
   "source": [
    "### 카테고리별 전체 주문 대비 사기 주문 비율"
   ]
  },
  {
   "cell_type": "code",
   "execution_count": null,
   "id": "94541c2e",
   "metadata": {},
   "outputs": [],
   "source": [
    "# 각 카테고리별로 사기 거래 비율 계산\n",
    "fraud_ratio_by_category = data.groupby('Product Category')['Is Fraudulent'].mean() * 100\n",
    "\n",
    "\n",
    "plt.figure(figsize=(10, 6))\n",
    "sns.barplot(x=fraud_ratio_by_category.values, y=fraud_ratio_by_category.index, palette='Set2')\n",
    "plt.title('Fraudulent Transaction Ratio by Product Category')\n",
    "plt.xlabel('Fraudulent Transaction Ratio (%)')\n",
    "plt.ylabel('Product Category')\n",
    "plt.xlim(4.7,5.1)\n",
    "plt.tight_layout()\n",
    "plt.show()"
   ]
  },
  {
   "cell_type": "markdown",
   "id": "50d463c7",
   "metadata": {},
   "source": [
    "### 카테고리별 사기 0 주문과 사기x 주문의 거래금액 사분위수"
   ]
  },
  {
   "cell_type": "code",
   "execution_count": null,
   "id": "595ca884",
   "metadata": {},
   "outputs": [],
   "source": [
    "data['Is Fraudulent'] = data['Is Fraudulent'].map({1: 'Yes', 0: 'No'})\n",
    "\n",
    "# 박스플롯 시각화\n",
    "plt.figure(figsize=(12, 8))\n",
    "sns.boxplot(x='Transaction Amount', y='Product Category', hue='Is Fraudulent', data=data, palette={'Yes': 'red', 'No': 'blue'})\n",
    "plt.title('Boxplot of Transaction Amount by Product Category')\n",
    "plt.xlabel('Transaction Amount')\n",
    "plt.ylabel('Product Category')\n",
    "plt.tight_layout()\n",
    "plt.show()"
   ]
  },
  {
   "cell_type": "markdown",
   "id": "f6ebfbe8",
   "metadata": {},
   "source": [
    "# 2. 주문수 * 주문량(quantity) -> 개수기준"
   ]
  },
  {
   "cell_type": "markdown",
   "id": "ca303ffd",
   "metadata": {},
   "source": [
    "### 사기 주문 물품 개수"
   ]
  },
  {
   "cell_type": "code",
   "execution_count": null,
   "id": "3a6621d8",
   "metadata": {},
   "outputs": [],
   "source": [
    "fraudulent_data = data[data['Is Fraudulent'] == 1]\n",
    "non_fraudulent_data = data[data['Is Fraudulent'] == 0]\n",
    "\n",
    "# 카테고리별 주문 수량 계산 (주문 수 * 주문량)\n",
    "total_order_quantity_per_category_fraudulent = fraudulent_data.groupby('Product Category').apply(lambda x: (x['Quantity']).sum())\n",
    "total_order_quantity_per_category_non_fraudulent = non_fraudulent_data.groupby('Product Category').apply(lambda x: (x['Quantity'] * x['Transaction Amount']).sum())\n",
    "\n",
    "\n",
    "plt.figure(figsize=(12, 6))\n",
    "\n",
    "# 사기일 때의 그래프\n",
    "plt.subplot(1, 2, 1)\n",
    "sns.barplot(x=total_order_quantity_per_category_fraudulent.index, y=total_order_quantity_per_category_fraudulent.values, color='#FF8000')\n",
    "plt.title('Total Order Quantity by Product Category (Fraudulent)')\n",
    "plt.xlabel('Product Category')\n",
    "plt.ylabel('Total Order Quantity')\n",
    "plt.xticks(rotation=45)\n",
    "plt.ylim(325000,475000)\n",
    "\n",
    "\n",
    "\n",
    "plt.tight_layout()\n",
    "plt.show()"
   ]
  },
  {
   "cell_type": "markdown",
   "id": "9b254199",
   "metadata": {},
   "source": [
    "* quantity를 곱한것이 이전과 다른 결과를 보였기에 원래 한번에 주문하는 비율이 많은 카테고리인지 검사"
   ]
  },
  {
   "cell_type": "markdown",
   "id": "d68c93c7",
   "metadata": {},
   "source": [
    "### 개수 기준"
   ]
  },
  {
   "cell_type": "code",
   "execution_count": null,
   "id": "5ff57350",
   "metadata": {},
   "outputs": [],
   "source": [
    "quantity_ratios = []\n",
    "categories = []\n",
    "quantities = []\n",
    "\n",
    "for category in data['Product Category'].unique():\n",
    "    category_data = data[data['Product Category'] == category]\n",
    "    total_orders = len(category_data)\n",
    "    quantity_counts = category_data['Quantity'].value_counts(normalize=True).sort_index()\n",
    "    for i in range(1, 6):\n",
    "        ratio = quantity_counts.get(i, 0) * 100\n",
    "        quantity_ratios.append(ratio)\n",
    "        categories.append(category)\n",
    "        quantities.append(i)\n",
    "\n",
    "\n",
    "df = pd.DataFrame({'Product Category': categories, 'Quantity': quantities, 'Quantity Ratio (%)': quantity_ratios})\n",
    "\n",
    "\n",
    "plt.figure(figsize=(12, 6))\n",
    "sns.barplot(x='Product Category', y='Quantity Ratio (%)', hue='Quantity', data=df)\n",
    "plt.title('Quantity Ratio by Product Category')\n",
    "plt.xlabel('Product Category')\n",
    "plt.ylabel('Quantity Ratio (%)')\n",
    "plt.xticks(rotation=45)\n",
    "plt.legend(title='Quantity')\n",
    "plt.ylim(19,20.5)\n",
    "plt.tight_layout()\n",
    "plt.show()"
   ]
  },
  {
   "cell_type": "markdown",
   "id": "67de1a95",
   "metadata": {},
   "source": [
    "### 평균값 기준"
   ]
  },
  {
   "cell_type": "code",
   "execution_count": null,
   "id": "0961a6d7",
   "metadata": {},
   "outputs": [],
   "source": [
    "# 각 카테고리별로 평균 주문량 계산\n",
    "average_order_quantity_per_category = data.groupby('Product Category')['Quantity'].mean().sort_values(ascending=False)\n",
    "\n",
    "# 시각화\n",
    "plt.figure(figsize=(12, 6))\n",
    "sns.barplot(x=average_order_quantity_per_category.index, y=average_order_quantity_per_category.values, color='green')\n",
    "plt.title('Average Order Quantity by Product Category')\n",
    "plt.xlabel('Product Category')\n",
    "plt.ylabel('Average Order Quantity')\n",
    "plt.xticks(rotation=45)\n",
    "plt.ylim(2.975,3.025)\n",
    "plt.tight_layout()\n",
    "plt.show()"
   ]
  },
  {
   "cell_type": "markdown",
   "id": "616baea0",
   "metadata": {},
   "source": [
    "# 3. 사기 주문과 그렇지 않은 주문 구매수량 사분위수, 비율 비교"
   ]
  },
  {
   "cell_type": "markdown",
   "id": "69f35761",
   "metadata": {},
   "source": [
    "### 사분위수"
   ]
  },
  {
   "cell_type": "code",
   "execution_count": null,
   "id": "86cd8637",
   "metadata": {},
   "outputs": [],
   "source": [
    "#사기주문과 그렇지 않은 주문 사분위수 비교\n",
    "plt.figure(figsize=(8, 6))\n",
    "sns.boxplot(x='Is Fraudulent', y='Quantity', data=data)\n",
    "plt.title('Comparison of Purchase Quantity between Fraudulent and Non-Fraudulent Transactions')\n",
    "plt.xlabel('Is Fraudulent')\n",
    "plt.ylabel('Quantity')\n",
    "\n",
    "plt.tight_layout()\n",
    "plt.show()"
   ]
  },
  {
   "cell_type": "markdown",
   "id": "19751408",
   "metadata": {},
   "source": [
    "### min, max 계산"
   ]
  },
  {
   "cell_type": "code",
   "execution_count": null,
   "id": "409e4c2a",
   "metadata": {},
   "outputs": [],
   "source": [
    "min_quantity = data['Quantity'].min()\n",
    "max_quantity = data['Quantity'].max()\n",
    "\n",
    "print(\"Minimum Quantity:\", min_quantity)\n",
    "print(\"Maximum Quantity:\", max_quantity)"
   ]
  },
  {
   "cell_type": "markdown",
   "id": "e3c26d15",
   "metadata": {},
   "source": [
    "### 사기주문과 구매량 사이의 연관성"
   ]
  },
  {
   "cell_type": "code",
   "execution_count": null,
   "id": "0c1651cf",
   "metadata": {},
   "outputs": [],
   "source": [
    "fraudulent_quantity_data = data[data['Is Fraudulent'] == 1]\n",
    "non_fraudulent_quantity_data = data[data['Is Fraudulent'] == 0]\n",
    "\n",
    "# 각각의 Quantity 값에 대한 사기 주문과 사기가 아닌 주문의 비율 계산\n",
    "fraudulent_quantity_ratios = (fraudulent_quantity_data['Quantity'].value_counts(normalize=True) * 100).sort_index()\n",
    "non_fraudulent_quantity_ratios = (non_fraudulent_quantity_data['Quantity'].value_counts(normalize=True) * 100).sort_index()\n",
    "\n",
    "fraudulent_quantity_ratios_df = pd.DataFrame({\n",
    "    'Quantity': fraudulent_quantity_ratios.index,\n",
    "    'Ratio (%)': fraudulent_quantity_ratios.values,\n",
    "    'Transaction Type': 'Fraudulent'\n",
    "})\n",
    "\n",
    "non_fraudulent_quantity_ratios_df = pd.DataFrame({\n",
    "    'Quantity': non_fraudulent_quantity_ratios.index,\n",
    "    'Ratio (%)': non_fraudulent_quantity_ratios.values,\n",
    "    'Transaction Type': 'Non-Fraudulent'\n",
    "})\n",
    "\n",
    "# 사기 주문과 사기가 아닌 주문의 데이터프레임 합치기\n",
    "combined_df = pd.concat([fraudulent_quantity_ratios_df, non_fraudulent_quantity_ratios_df])\n",
    "\n",
    "\n",
    "plt.figure(figsize=(15, 6))\n",
    "# 사기 주문에 대한 그래프\n",
    "plt.subplot(1, 2, 1)\n",
    "sns.barplot(x='Quantity', y='Ratio (%)', data=fraudulent_quantity_ratios_df, color='#FF8000')\n",
    "plt.title('Quantity Ratio in Fraudulent Transactions')\n",
    "plt.xlabel('Quantity')\n",
    "plt.ylabel('Ratio (%)')\n",
    "plt.ylim(18,21)\n",
    "\n",
    "for index, value in enumerate(fraudulent_quantity_ratios.values):\n",
    "    plt.text(index, value + 0.2, f'{value:.2f}%', ha='center', va='top')\n",
    "\n",
    "\n",
    "plt.tight_layout()\n",
    "plt.show()"
   ]
  }
 ],
 "metadata": {
  "kernelspec": {
   "display_name": "Python 3 (ipykernel)",
   "language": "python",
   "name": "python3"
  },
  "language_info": {
   "codemirror_mode": {
    "name": "ipython",
    "version": 3
   },
   "file_extension": ".py",
   "mimetype": "text/x-python",
   "name": "python",
   "nbconvert_exporter": "python",
   "pygments_lexer": "ipython3",
   "version": "3.9.12"
  }
 },
 "nbformat": 4,
 "nbformat_minor": 5
}
