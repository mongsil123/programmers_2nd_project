{
 "cells": [
  {
   "cell_type": "markdown",
   "id": "e9a0248b",
   "metadata": {},
   "source": [
    "# 1. 정상거래와 사기거래의 거래 금액 분포 비교"
   ]
  },
  {
   "cell_type": "markdown",
   "id": "fc42f8b3",
   "metadata": {},
   "source": [
    "### 거래금액 분포"
   ]
  },
  {
   "cell_type": "code",
   "execution_count": null,
   "id": "a18135c9",
   "metadata": {},
   "outputs": [],
   "source": [
    "import seaborn as sns\n",
    "import matplotlib.pyplot as plt\n",
    "\n",
    "# 사기거래와 정상거래로 데이터 분할\n",
    "illegal = df[df['Is Fraudulent'] == 1]\n",
    "legal = df[df['Is Fraudulent'] == 0]\n",
    "\n",
    "# Transaction Amount 분포 비교\n",
    "plt.figure(figsize=(10, 6))\n",
    "sns.histplot(data=illegal, x='Transaction Amount', color='red', alpha=0.7, label='사기거래', kde=True)\n",
    "sns.histplot(data=legal, x='Transaction Amount', color='blue', alpha=0.7, label='정상거래', kde=True)\n",
    "\n",
    "# 각 분포의 최대값에 라인 그리고 수치 표시\n",
    "max_legal = legal['Transaction Amount'].max()\n",
    "max_illegal = illegal['Transaction Amount'].max()\n",
    "plt.axvline(x=max_legal, color='blue', linestyle='--', label=f'정상거래 최대값: {max_legal:.2f}')\n",
    "plt.axvline(x=max_illegal, color='red', linestyle='--', label=f'사기거래 최대값: {max_illegal:.2f}')\n",
    "\n",
    "plt.title('거래금액 분포')\n",
    "plt.xlabel('Transaction Amount')\n",
    "plt.ylabel('Density')\n",
    "plt.legend(loc='upper center')  # 범례 위치 조정\n",
    "plt.show()"
   ]
  },
  {
   "cell_type": "markdown",
   "id": "d7253f8d",
   "metadata": {},
   "source": [
    "### 사기 여부에 따른 거래 금액의 BoxPlot"
   ]
  },
  {
   "cell_type": "code",
   "execution_count": null,
   "id": "e0a516ce",
   "metadata": {},
   "outputs": [],
   "source": [
    "# 박스 플롯 시각화\n",
    "plt.figure(figsize=(10, 6))\n",
    "sns.boxplot(x='Is Fraudulent', y='Transaction Amount', data=df)\n",
    "plt.title('사기 여부에 따른 거래 금액의 BoxPlot')\n",
    "plt.xlabel('Is Fraudulent')\n",
    "plt.ylabel('Transaction Amount')\n",
    "plt.xticks([0, 1], ['정상거래', '사기거래'])\n",
    "plt.show()"
   ]
  },
  {
   "cell_type": "markdown",
   "id": "4b626f6f",
   "metadata": {},
   "source": [
    "### 정상 거래의 거래금액에 대한 커널 밀도 추정"
   ]
  },
  {
   "cell_type": "code",
   "execution_count": null,
   "id": "c5ccd0b3",
   "metadata": {},
   "outputs": [],
   "source": [
    "# 정상 거래 데이터만 추출\n",
    "fraudulent_transactions = df[df['Is Fraudulent'] == 0]\n",
    "\n",
    "# 중앙값 계산\n",
    "median_amount = np.median(fraudulent_transactions['Transaction Amount'])\n",
    "\n",
    "# KDE 플롯으로 결제 금액의 분포 시각화\n",
    "plt.figure(figsize=(10, 6))\n",
    "sns.kdeplot(data=fraudulent_transactions, x='Transaction Amount', fill=True)\n",
    "plt.title('정상 거래의 거래금액에 대한 커널 밀도 추정')\n",
    "plt.xlabel('Transaction Amount')\n",
    "plt.ylabel('Density')\n",
    "\n",
    "# 중앙값을 빨간색 선으로 추가\n",
    "plt.axvline(x=median_amount, color='red', linestyle='--', label=f'Median: {median_amount:.2f}')\n",
    "plt.legend()\n",
    "\n",
    "plt.show()"
   ]
  },
  {
   "cell_type": "markdown",
   "id": "47783970",
   "metadata": {},
   "source": [
    "### 사기 거래의 거래금액에 대한 커널 밀도 추정"
   ]
  },
  {
   "cell_type": "code",
   "execution_count": null,
   "id": "fcc0161d",
   "metadata": {},
   "outputs": [],
   "source": [
    "# 사기 거래 데이터만 추출\n",
    "fraudulent_transactions = df[df['Is Fraudulent'] == 1]\n",
    "\n",
    "# 중앙값 계산\n",
    "median_amount = np.median(fraudulent_transactions['Transaction Amount'])\n",
    "\n",
    "# KDE 플롯으로 결제 금액의 분포 시각화\n",
    "plt.figure(figsize=(10, 6))\n",
    "sns.kdeplot(data=fraudulent_transactions, x='Transaction Amount', fill=True)\n",
    "plt.title('사기 거래의 거래금액에 대한 커널 밀도 추정')\n",
    "plt.xlabel('Transaction Amount')\n",
    "plt.ylabel('Density')\n",
    "\n",
    "# 중앙값을 빨간색 선으로 추가\n",
    "plt.axvline(x=median_amount, color='red', linestyle='--', label=f'Median: {median_amount:.2f}')\n",
    "plt.legend()\n",
    "\n",
    "plt.show()"
   ]
  },
  {
   "cell_type": "markdown",
   "id": "61a1bf1e",
   "metadata": {},
   "source": [
    "### 거래금액 범위별 정상거래 비율"
   ]
  },
  {
   "cell_type": "code",
   "execution_count": null,
   "id": "9a10e291",
   "metadata": {},
   "outputs": [],
   "source": [
    "# 0에서 4000까지 200단위로 금액대를 생성\n",
    "bins = np.arange(0, 1700, 200)\n",
    "labels = [f\"{i} - {i+199}\" for i in bins[:-1]]\n",
    "\n",
    "# 금액대별로 데이터 분류\n",
    "df['Amount Range'] = pd.cut(df['Transaction Amount'], bins=bins, labels=labels)\n",
    "\n",
    "# 정상 거래만 포함하는 데이터프레임 생성\n",
    "fraudulent_transactions = df[df['Is Fraudulent'] == 0]\n",
    "\n",
    "# 금액대별 사기 거래 수 계산\n",
    "fraud_counts_by_range = fraudulent_transactions['Amount Range'].value_counts().sort_index()\n",
    "\n",
    "# 전체 정상 거래 수\n",
    "total_fraud_count = fraudulent_transactions.shape[0]\n",
    "\n",
    "# 각 금액대별 정상 거래 비율 계산 (해당 금액대의 정상 거래 수 / 전체 정상 거래 수)\n",
    "fraud_rate_by_range = fraud_counts_by_range / total_fraud_count\n",
    "\n",
    "# Seaborn을 사용한 시각화 및 각 막대 위에 수치 표시\n",
    "plt.figure(figsize=(12, 6))\n",
    "barplot = sns.barplot(x=fraud_rate_by_range.index, y=fraud_rate_by_range.values, palette=\"viridis\")\n",
    "plt.title('거래 금액 범위별 정상거래 비율')\n",
    "plt.xlabel('Transaction Amount Range')\n",
    "plt.ylabel('Percentage of Total Fraudulent Transactions')\n",
    "plt.xticks(rotation=45)\n",
    "\n",
    "# 각 막대 위에 비율 표시\n",
    "for index, value in enumerate(fraud_rate_by_range):\n",
    "    plt.text(index, value, f\"{value:.2%}\", color='black', ha=\"center\", va=\"bottom\")\n",
    "\n",
    "plt.show()"
   ]
  },
  {
   "cell_type": "markdown",
   "id": "c5406a6a",
   "metadata": {},
   "source": [
    "### 거래금액 범위별 사기거래 비율"
   ]
  },
  {
   "cell_type": "code",
   "execution_count": null,
   "id": "5e20bbde",
   "metadata": {},
   "outputs": [],
   "source": [
    "# 사기 거래 데이터만 추출\n",
    "fraudulent_transactions = df[df['Is Fraudulent'] == 1]\n",
    "\n",
    "# 0에서 4000까지 200단위로 금액대를 생성\n",
    "bins = np.arange(0, 4200, 200)\n",
    "labels = [f\"{i} - {i+199}\" for i in bins[:-1]]\n",
    "\n",
    "# 금액대별로 데이터 분류\n",
    "df['Amount Range'] = pd.cut(df['Transaction Amount'], bins=bins, labels=labels)\n",
    "\n",
    "# 사기 거래만 포함하는 데이터프레임 생성\n",
    "fraudulent_transactions = df[df['Is Fraudulent'] == 1]\n",
    "\n",
    "# 금액대별 사기 거래 수 계산\n",
    "fraud_counts_by_range = fraudulent_transactions['Amount Range'].value_counts().sort_index()\n",
    "\n",
    "# 전체 사기 거래 수\n",
    "total_fraud_count = fraudulent_transactions.shape[0]\n",
    "\n",
    "# 각 금액대별 사기 거래 비율 계산 (해당 금액대의 사기 거래 수 / 전체 사기 거래 수)\n",
    "fraud_rate_by_range = fraud_counts_by_range / total_fraud_count\n",
    "\n",
    "# Seaborn을 사용한 시각화 및 각 막대 위에 수치 표시\n",
    "plt.figure(figsize=(12, 6))\n",
    "barplot = sns.barplot(x=fraud_rate_by_range.index, y=fraud_rate_by_range.values, palette=\"viridis\")\n",
    "plt.title('거래 금액 범위별 사기거래 비율')\n",
    "plt.xlabel('Transaction Amount Range')\n",
    "plt.ylabel('Percentage of Total Fraudulent Transactions')\n",
    "plt.xticks(rotation=45)\n",
    "\n",
    "# 각 막대 위에 비율 표시\n",
    "for index, value in enumerate(fraud_rate_by_range):\n",
    "    plt.text(index, value, f\"{value:.2%}\", color='black', ha=\"center\", va=\"bottom\")\n",
    "\n",
    "plt.show()"
   ]
  },
  {
   "cell_type": "markdown",
   "id": "7389f348",
   "metadata": {},
   "source": [
    "# 2. 결제수단별 거래수 및 비율"
   ]
  },
  {
   "cell_type": "markdown",
   "id": "ddc04e78",
   "metadata": {},
   "source": [
    "### 정상거래의 결제수단별 거래수 및 비율"
   ]
  },
  {
   "cell_type": "code",
   "execution_count": null,
   "id": "8bdaf353",
   "metadata": {},
   "outputs": [],
   "source": [
    "import math\n",
    "\n",
    "# 시각화\n",
    "plt.figure(figsize=(10, 6))\n",
    "\n",
    "# 막대 그래프 (거래 수)\n",
    "ax1 = sns.barplot(data=fraudulent_transactions_count_by_payment, x='Payment Method', y='Count', color='blue')\n",
    "ax1.set_ylabel('Count', color='blue')\n",
    "\n",
    "# 라인 그래프 (비율)\n",
    "ax2 = ax1.twinx()\n",
    "sns.lineplot(data=fraudulent_transactions_count_by_payment, x='Payment Method', y='Ratio', marker='o', color='red', ax=ax2)\n",
    "ax2.set_ylabel('Ratio', color='red')\n",
    "\n",
    "# 각 막대와 라인 포인트에 count와 ratio를 수치로 표시 (소수점 세 자리까지 표기)\n",
    "for index, row in fraudulent_transactions_count_by_payment.iterrows():\n",
    "    rounded_ratio = math.floor(row['Ratio'] * 10000) / 10000  # 소수점 넷째 자리에서 버림\n",
    "    ax1.text(index, row['Count'], f'{row[\"Count\"]}', color='black', ha='center', va='bottom')\n",
    "    ax2.text(index, row['Ratio'], f'{rounded_ratio:.4f}', color='black', ha='center', va='top')\n",
    "\n",
    "# Ratio의 y 축 범위 설정\n",
    "ax2.set_ylim(0.0, 0.3)\n",
    "\n",
    "plt.title('Payment Method별 정상거래 수 및 비율')\n",
    "plt.show()"
   ]
  },
  {
   "cell_type": "markdown",
   "id": "8d7b9d44",
   "metadata": {},
   "source": [
    "### 사기거래의 결제수단별 거래수 및 비율"
   ]
  },
  {
   "cell_type": "code",
   "execution_count": null,
   "id": "3d936bb2",
   "metadata": {},
   "outputs": [],
   "source": [
    "import math\n",
    "\n",
    "# 시각화\n",
    "plt.figure(figsize=(10, 6))\n",
    "\n",
    "# 막대 그래프 (거래 수)\n",
    "ax1 = sns.barplot(data=fraudulent_transactions_count_by_payment, x='Payment Method', y='Count', color='blue')\n",
    "ax1.set_ylabel('Count', color='blue')\n",
    "\n",
    "# 라인 그래프 (비율)\n",
    "ax2 = ax1.twinx()\n",
    "sns.lineplot(data=fraudulent_transactions_count_by_payment, x='Payment Method', y='Ratio', marker='o', color='red', ax=ax2)\n",
    "ax2.set_ylabel('Ratio', color='red')\n",
    "\n",
    "# 각 막대와 라인 포인트에 count와 ratio를 수치로 표시 (소수점 세 자리까지 표기)\n",
    "for index, row in fraudulent_transactions_count_by_payment.iterrows():\n",
    "    rounded_ratio = math.floor(row['Ratio'] * 10000) / 10000  # 소수점 넷째 자리에서 버림\n",
    "    ax1.text(index, row['Count'], f'{row[\"Count\"]}', color='black', ha='center', va='bottom')\n",
    "    ax2.text(index, row['Ratio'], f'{rounded_ratio:.4f}', color='black', ha='center', va='top')\n",
    "\n",
    "# Ratio의 y 축 범위 설정\n",
    "ax2.set_ylim(0.0, 0.3)\n",
    "\n",
    "plt.title('Payment Method별 사기거래 수 및 비율')\n",
    "plt.show()"
   ]
  },
  {
   "cell_type": "markdown",
   "id": "95dcbc8b",
   "metadata": {},
   "source": [
    "# 3. 결제 방법별 거래 금액 범위에 따른 사기거래 비율"
   ]
  },
  {
   "cell_type": "code",
   "execution_count": null,
   "id": "239c1a6e",
   "metadata": {},
   "outputs": [],
   "source": [
    "# 거래 금액을 10개의 균일한 구간으로 나눔\n",
    "df['Amount Range'] = pd.qcut(df['Transaction Amount'], 10, duplicates='drop')\n",
    "\n",
    "# 결제 방법과 금액 범위에 따라 그룹화하여 사기 거래 비율 계산\n",
    "fraud_rates = df.groupby(['Payment Method', 'Amount Range']).apply(\n",
    "    lambda x: x['Is Fraudulent'].mean()\n",
    ").unstack(fill_value=0)  # 결측치는 0으로 채움\n",
    "\n",
    "# 사기 거래 비율 시각화\n",
    "plt.figure(figsize=(12, 8))\n",
    "sns.heatmap(fraud_rates, annot=True, cmap='Reds', fmt=\".3f\")\n",
    "plt.title('결제 방법과 거래 금액 범위별 사기거래 비율')\n",
    "plt.ylabel('Payment Method')\n",
    "plt.xlabel('Transaction Amount Range')\n",
    "plt.show()"
   ]
  }
 ],
 "metadata": {
  "kernelspec": {
   "display_name": "Python 3 (ipykernel)",
   "language": "python",
   "name": "python3"
  },
  "language_info": {
   "codemirror_mode": {
    "name": "ipython",
    "version": 3
   },
   "file_extension": ".py",
   "mimetype": "text/x-python",
   "name": "python",
   "nbconvert_exporter": "python",
   "pygments_lexer": "ipython3",
   "version": "3.9.12"
  }
 },
 "nbformat": 4,
 "nbformat_minor": 5
}
