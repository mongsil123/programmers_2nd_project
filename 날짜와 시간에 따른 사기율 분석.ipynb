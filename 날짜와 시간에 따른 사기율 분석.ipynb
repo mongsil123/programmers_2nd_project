{
 "cells": [
  {
   "cell_type": "markdown",
   "id": "cfc6a47b",
   "metadata": {},
   "source": [
    "# 1. 요일별 분석"
   ]
  },
  {
   "cell_type": "code",
   "execution_count": null,
   "id": "711a1a18",
   "metadata": {},
   "outputs": [],
   "source": [
    "# 요일별 거래량 계산\n",
    "\n",
    "# Transaction Date 컬럼을 datetime 형식으로 변환\n",
    "df['Transaction Date'] = pd.to_datetime(df['Transaction Date'])\n",
    "\n",
    "# 요일별 거래량 계산\n",
    "df['Day_of_Week'] = df['Transaction Date'].dt.day_name()\n",
    "daily_transactions = df['Day_of_Week'].value_counts()\n",
    "\n",
    "print(daily_transactions)"
   ]
  },
  {
   "cell_type": "code",
   "execution_count": null,
   "id": "6cd9c6c0",
   "metadata": {},
   "outputs": [],
   "source": [
    "# 요일별 거래량 시각화\n",
    "\n",
    "# Transaction Date 열을 datetime 형식으로 변환\n",
    "df_2024['Transaction Date'] = pd.to_datetime(df_2024['Transaction Date'])\n",
    "\n",
    "# 요일별 거래량 계산\n",
    "df_2024['Day_of_Week'] = df_2024['Transaction Date'].dt.day_name()\n",
    "daily_transactions_2024 = df_2024['Day_of_Week'].value_counts()\n",
    "\n",
    "# 요일 순서 정의 (월요일부터 일요일까지)\n",
    "day_order = ['Monday', 'Tuesday', 'Wednesday', 'Thursday', 'Friday', 'Saturday', 'Sunday']\n",
    "\n",
    "# 시각화\n",
    "plt.figure(figsize=(8, 5))\n",
    "sns.barplot(x=daily_transactions_2024.index, y=daily_transactions_2024.values, order=day_order, palette='viridis')\n",
    "plt.title('Transaction_Data_day of the week')\n",
    "plt.xlabel('day of the week')\n",
    "plt.ylabel('volume')\n",
    "plt.xticks(rotation=45)\n",
    "plt.show()"
   ]
  },
  {
   "cell_type": "code",
   "execution_count": null,
   "id": "fa4f69cc",
   "metadata": {},
   "outputs": [],
   "source": [
    "# 사기거래와 정상거래의 비율\n",
    "\n",
    "# 요일 순서 리스트 정의\n",
    "days_order = ['Monday', 'Tuesday', 'Wednesday', 'Thursday', 'Friday', 'Saturday', 'Sunday']\n",
    "\n",
    "# 각 요일별 정상 거래 수 계산\n",
    "normal_transactions_by_day = df_2024[df_2024['Is Fraudulent'] == 0]['Transaction Date'].dt.day_name().value_counts().sort_index()\n",
    "\n",
    "# 각 요일별 사기 거래 수 계산\n",
    "fraudulent_transactions_by_day = df_2024[df_2024['Is Fraudulent'] == 1]['Transaction Date'].dt.day_name().value_counts().sort_index()\n",
    "\n",
    "\n",
    "# 시각화\n",
    "plt.figure(figsize=(10, 6))\n",
    "plt.plot(normal_transactions_by_day.index, normal_transactions_by_day.values, marker='o', label='정상 거래')\n",
    "plt.plot(fraudulent_transactions_by_day.index, fraudulent_transactions_by_day.values, marker='o', label='사기 거래')\n",
    "plt.title('Fraudulent and Not transaction for day of the week')\n",
    "plt.xlabel('day of the week')\n",
    "plt.ylabel('volume')\n",
    "plt.xticks(rotation=45)\n",
    "plt.legend()"
   ]
  },
  {
   "cell_type": "markdown",
   "id": "92c61394",
   "metadata": {},
   "source": [
    "# 2. 시간대 별 분석"
   ]
  },
  {
   "cell_type": "code",
   "execution_count": null,
   "id": "1b73877a",
   "metadata": {},
   "outputs": [],
   "source": [
    "# 시간대별 거래량 계산\n",
    "def get_time_of_day(hour):\n",
    "    if 6 <= hour < 12:\n",
    "        return \"Morning\"\n",
    "    elif 12 <= hour < 18:\n",
    "        return \"Aftefnoon\"\n",
    "    elif 18 <= hour < 24:\n",
    "        return \"Evening\"\n",
    "    else:\n",
    "        return \"middle of night\"\n",
    "\n",
    "df['Hour'] = df['Transaction Date'].dt.hour\n",
    "df['Time_of_Day'] = df['Hour'].apply(get_time_of_day)\n",
    "time_of_day_transactions = df.groupby('Time_of_Day').size()\n",
    "\n",
    "print(time_of_day_transactions)\n",
    "\n",
    "# 시각화\n",
    "plt.figure(figsize=(8, 5))\n",
    "sns.barplot(x=time_of_day_transactions.index, y=time_of_day_transactions.values, palette='viridis')\n",
    "plt.title('Number of Transaction_Time Zone')\n",
    "plt.xlabel('Time Zone')\n",
    "plt.ylabel('Volume')\n",
    "plt.show()"
   ]
  },
  {
   "cell_type": "code",
   "execution_count": null,
   "id": "f9b8bb50",
   "metadata": {},
   "outputs": [],
   "source": [
    "# 시간대 별 사기거래 수\n",
    "\n",
    "# 시간대를 정의합니다. (시작 시간, 종료 시간, 시간대 이름)\n",
    "time_ranges = [\n",
    "    (0, 5, 'middle of night'),\n",
    "    (6, 11, 'morning'),\n",
    "    (12, 17, 'afternoon'),\n",
    "    (18, 23, 'evening')\n",
    "]\n",
    "\n",
    "# 각 시간대별로 사기 거래의 수를 계산합니다.\n",
    "fraudulent_transactions_by_time_range = {}\n",
    "for start, end, time_range_name in time_ranges:\n",
    "    # 시간대에 해당하는 데이터를 필터링합니다.\n",
    "    filtered_data = df_2024[df_2024['Transaction Date'].dt.hour.between(start, end)]\n",
    "    # 사기 거래의 수를 계산합니다.\n",
    "    fraudulent_transactions_by_time_range[time_range_name] = filtered_data[filtered_data['Is Fraudulent'] == 1].shape[0]\n",
    "    print(fraudulent_transactions_by_time_range)\n",
    "# 시각화\n",
    "plt.figure(figsize=(8, 5))\n",
    "sns.barplot(x=list(fraudulent_transactions_by_time_range.keys()), y=list(fraudulent_transactions_by_time_range.values()), palette='viridis')\n",
    "plt.title('Number of Fraudulent Transactions_Time Zone')\n",
    "plt.xlabel('Time Zone')\n",
    "plt.ylabel('Volume')\n",
    "plt.show()"
   ]
  }
 ],
 "metadata": {
  "kernelspec": {
   "display_name": "Python 3 (ipykernel)",
   "language": "python",
   "name": "python3"
  },
  "language_info": {
   "codemirror_mode": {
    "name": "ipython",
    "version": 3
   },
   "file_extension": ".py",
   "mimetype": "text/x-python",
   "name": "python",
   "nbconvert_exporter": "python",
   "pygments_lexer": "ipython3",
   "version": "3.9.12"
  }
 },
 "nbformat": 4,
 "nbformat_minor": 5
}
