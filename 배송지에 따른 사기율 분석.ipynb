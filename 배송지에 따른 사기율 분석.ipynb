{
 "cells": [
  {
   "cell_type": "markdown",
   "id": "98fc58e7",
   "metadata": {},
   "source": [
    "### 배송지에 따른 사기성"
   ]
  },
  {
   "cell_type": "code",
   "execution_count": null,
   "id": "2e49e6bb",
   "metadata": {},
   "outputs": [],
   "source": [
    "#shipping address에서 주만을 추출하는 코드\n",
    "data['State'] = data['Shipping Address'].apply(lambda x: x.split(',')[-1].strip().split(' ')[0])"
   ]
  },
  {
   "cell_type": "code",
   "execution_count": null,
   "id": "3204c3ca",
   "metadata": {},
   "outputs": [],
   "source": [
    "#배송지에 따른 사기성을 평균, 총합계, 사기성이 일어난 값을 추출\n",
    "state_fraud = data.groupby('State')['Is Fraudulent'].agg(['mean', 'count', 'sum']).reset_index()\n",
    "#mean값을 퍼센트로 보기 위해 100 곱하기\n",
    "state_fraud['mean'] = state_fraud['mean'] * 100\n",
    "#mean으로 sort한 값 추출\n",
    "state_fraud_sorted = state_fraud.sort_values(by='mean', ascending=False)"
   ]
  },
  {
   "cell_type": "markdown",
   "id": "ee693511",
   "metadata": {},
   "source": [
    "### Shipping Address와 Billing Address에서 주소가 같은 경우와 다를 경우의 사기성 차이"
   ]
  },
  {
   "cell_type": "code",
   "execution_count": null,
   "id": "9550cc67",
   "metadata": {},
   "outputs": [],
   "source": [
    "#결제할 때 작성한 주소와 제품이 배송된 주소가 동일한 값 추출\n",
    "data['Address Match'] = data['Shipping Address'] == data['Billing Address']\n",
    "\n",
    "address_match_fraud= data.groupby('Address Match')['Is Fraudulent'].agg(['mean', 'count','sum']).reset_index()\n",
    "address_match_fraud['mean'] = address_match_fraud['mean'] * 100"
   ]
  },
  {
   "cell_type": "code",
   "execution_count": null,
   "id": "492b2ab4",
   "metadata": {},
   "outputs": [],
   "source": [
    "#시각화\n",
    "plt.figure(figsize=(8, 6))\n",
    "bar_plot = sns.barplot(data=address_match_fraud, x='Address Match', y='mean', palette='viridis')\n",
    "plt.title('Fraud Rate Based on Address Match')\n",
    "plt.xlabel('Address Match')\n",
    "plt.ylabel('Fraud Rate (%)')\n",
    "plt.grid(True, axis='y')\n",
    "\n",
    "#그래프에 값 작성\n",
    "for p in bar_plot.patches:\n",
    "    bar_plot.annotate(format(p.get_height(), '.2f'), \n",
    "                      (p.get_x() + p.get_width() / 2., p.get_height()),\n",
    "                      ha = 'center', va = 'center', \n",
    "                      xytext = (0, 9), \n",
    "                      textcoords = 'offset points')\n",
    "\n",
    "plt.tight_layout()\n",
    "plt.show()\n"
   ]
  },
  {
   "cell_type": "markdown",
   "id": "e5a27b0f",
   "metadata": {},
   "source": [
    "### 특정 주의 결제 수단에서 사기성 거래가 더 많이 발생"
   ]
  },
  {
   "cell_type": "code",
   "execution_count": null,
   "id": "4eefc72a",
   "metadata": {},
   "outputs": [],
   "source": [
    "payState_fraud = data.groupby(['State', 'Payment Method'])['Is Fraudulent'].agg(['mean', 'count','sum'])\n",
    "payState_fraud ['mean'] = payState_fraud ['mean'] * 100\n",
    "payState_fraud_sorted = payState_fraud.sort_values(by='mean', ascending=False)"
   ]
  },
  {
   "cell_type": "code",
   "execution_count": null,
   "id": "30a99104",
   "metadata": {},
   "outputs": [],
   "source": [
    "# 트랜젝션이 거의 없는 부분을 삭제\n",
    "filtered_fraud_rate = payState_fraud[payState_fraud['count'] >= 30]\n",
    "\n",
    "#인덱스 재설정\n",
    "filtered_fraud_rate = filtered_fraud_rate.reset_index()\n",
    "\n",
    "#시각화\n",
    "plt.figure(figsize=(14, 8))\n",
    "line_plot = sns.lineplot(data=filtered_fraud_rate, x='State', y='mean', hue='Payment Method', marker='o')\n",
    "plt.title('Fraud Rate by State and Payment Method')\n",
    "plt.xlabel('State')\n",
    "plt.ylabel('Fraud Rate')\n",
    "plt.xticks(rotation=45) \n",
    "plt.legend(title='Payment Method', bbox_to_anchor=(1.05, 1), loc=2, borderaxespad=0.)\n",
    "plt.grid(True)\n",
    "plt.tight_layout() \n",
    "plt.show()"
   ]
  },
  {
   "cell_type": "markdown",
   "id": "ca3e1181",
   "metadata": {},
   "source": [
    "### 가설 - 가장 사기성을 많이 띈 USNV 주에서 가장 높게 측정된 상품 카테고리, 장치유형, 거래시간, 지불방법을 조사"
   ]
  },
  {
   "cell_type": "code",
   "execution_count": null,
   "id": "3254a78a",
   "metadata": {},
   "outputs": [],
   "source": [
    "#state가 USNV일 때(USNV가 가장 높은 사기성을 띔)\n",
    "usnv_data = data[data['State'] == 'USNV']\n",
    "\n",
    "# 상품 카테고리, 장치유형, 거래시간, 지불방법을 조사\n",
    "category_freq = usnv_data['Product Category'].value_counts().idxmax()\n",
    "device_freq = usnv_data['Device Used'].value_counts().idxmax()\n",
    "time_freq = usnv_data['Transaction Hour'].value_counts().idxmax()\n",
    "payment_freq = usnv_data['Payment Method'].value_counts().idxmax()\n",
    "\n",
    "fig, axs = plt.subplots(2, 2, figsize=(14, 12))\n",
    "\n",
    "#상품 카테고리\n",
    "sns.countplot(data=usnv_data, x='Product Category', ax=axs[0, 0], palette='viridis')\n",
    "axs[0, 0].set_title('Product Category Distribution in USNV')\n",
    "axs[0, 0].set_xlabel('Product Category')\n",
    "axs[0, 0].set_ylabel('Count')\n",
    "axs[0, 0].tick_params(axis='x', rotation=45)\n",
    "\n",
    "#장치유형\n",
    "sns.countplot(data=usnv_data, x='Device Used', ax=axs[0, 1], palette='viridis')\n",
    "axs[0, 1].set_title('Device Used Distribution in USNV')\n",
    "axs[0, 1].set_xlabel('Device Used')\n",
    "axs[0, 1].set_ylabel('Count')\n",
    "\n",
    "#거래시간\n",
    "sns.countplot(data=usnv_data, x='Transaction Hour', ax=axs[1, 0], palette='viridis')\n",
    "axs[1, 0].set_title('Transaction Hour Distribution in USNV')\n",
    "axs[1, 0].set_xlabel('Transaction Hour')\n",
    "axs[1, 0].set_ylabel('Count')\n",
    "\n",
    "#지불방법\n",
    "sns.countplot(data=usnv_data, x='Payment Method', ax=axs[1, 1], palette='viridis')\n",
    "axs[1, 1].set_title('Payment Method Distribution in USNV')\n",
    "axs[1, 1].set_xlabel('Payment Method')\n",
    "axs[1, 1].set_ylabel('Count')\n",
    "axs[1, 1].tick_params(axis='x', rotation=45)\n",
    "\n",
    "plt.tight_layout()\n",
    "plt.show()"
   ]
  }
 ],
 "metadata": {
  "kernelspec": {
   "display_name": "Python 3 (ipykernel)",
   "language": "python",
   "name": "python3"
  },
  "language_info": {
   "codemirror_mode": {
    "name": "ipython",
    "version": 3
   },
   "file_extension": ".py",
   "mimetype": "text/x-python",
   "name": "python",
   "nbconvert_exporter": "python",
   "pygments_lexer": "ipython3",
   "version": "3.9.12"
  }
 },
 "nbformat": 4,
 "nbformat_minor": 5
}
