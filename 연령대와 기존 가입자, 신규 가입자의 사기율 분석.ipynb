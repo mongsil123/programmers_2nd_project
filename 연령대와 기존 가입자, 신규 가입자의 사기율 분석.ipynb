{
 "cells": [
  {
   "cell_type": "markdown",
   "id": "0352745a",
   "metadata": {},
   "source": [
    "### 연령대 나누기"
   ]
  },
  {
   "cell_type": "code",
   "execution_count": null,
   "id": "1d7e901a",
   "metadata": {},
   "outputs": [],
   "source": [
    "#필요하지 않은 열을 파괴적인 방법으로 삭제\n",
    "drop_columns = ['Product Category', 'Quantity', 'Customer Location', 'IP Address', 'Shipping Address', 'Billing Address', 'Transaction Hour']"
   ]
  },
  {
   "cell_type": "code",
   "execution_count": null,
   "id": "d3bc1dce",
   "metadata": {},
   "outputs": [],
   "source": [
    "#연령대를 구분하기 위한 작업 \n",
    "bins = [0,30,60,90]\n",
    "labels = ['청년','중년','노인']\n",
    "cheated_df['Age Group'] = pd.cut(cheated_df['Customer Age'], bins=bins, labels=labels)\n",
    "#연령대를 구분하기 위한 작업 \n",
    "bins = [0,30,60,90]\n",
    "labels = ['청년','중년','노인']\n",
    "cheated_df['Age Group'] = pd.cut(cheated_df['Customer Age'], bins=bins, labels=labels)"
   ]
  },
  {
   "cell_type": "code",
   "execution_count": null,
   "id": "22f6f56d",
   "metadata": {},
   "outputs": [],
   "source": [
    "#마스크를 활용하여 청년 중년 노인을 나누는 작업\n",
    "mask_young = cheated_df['Age Group'] =='청년'\n",
    "mask_middle = cheated_df['Age Group'] == '중년'\n",
    "mask_old = cheated_df['Age Group'] == '노인'\n",
    "\n",
    "#연령대별 데이터 프레임을 생성\n",
    "young_customers = cheated_df[mask_young]\n",
    "middle_customers = cheated_df[mask_middle]\n",
    "old_customers = cheated_df[mask_old]"
   ]
  },
  {
   "cell_type": "markdown",
   "id": "8aae801c",
   "metadata": {},
   "source": [
    "### 연령대별 거래 건수"
   ]
  },
  {
   "cell_type": "code",
   "execution_count": null,
   "id": "3d874b48",
   "metadata": {},
   "outputs": [],
   "source": [
    "plt.rc('font', family='Hancom Gothic')\n",
    "\n",
    "young_fraud_counts = young_customers.groupby('Device Used')['Device Used'].count()\n",
    "middle_fraud_counts = middle_customers.groupby('Device Used')['Device Used'].count()\n",
    "old_fraud_counts = old_customers.groupby('Device Used')['Device Used'].count()\n",
    "\n",
    "plt.figure(figsize=(8, 6))\n",
    "age_group_counts.plot(kind='bar', color='skyblue')\n",
    "plt.title('연령대별 거래 건수', fontsize=16)\n",
    "plt.xlabel('연령대', fontsize=14)\n",
    "plt.ylabel('거래 건수', fontsize=14)\n",
    "plt.xticks(rotation=45)  # x축 레이블 회전\n",
    "plt.show()"
   ]
  },
  {
   "cell_type": "code",
   "execution_count": null,
   "id": "19d78dfd",
   "metadata": {},
   "outputs": [],
   "source": [
    "# 각 연령 그룹별 사기가 아닌 거래 횟수 계산\n",
    "young_non_fraudulent_count = young_customers[young_customers['Is Fraudulent'] == False]['Is Fraudulent'].count()\n",
    "middle_non_fraudulent_count = middle_customers[middle_customers['Is Fraudulent'] == False]['Is Fraudulent'].count()\n",
    "old_non_fraudulent_count = old_customers[old_customers['Is Fraudulent'] == False]['Is Fraudulent'].count()\n",
    "\n",
    "# 각 연령 그룹별 사기 거래 횟수 계산\n",
    "young_fraudulent_count = young_customers[young_customers['Is Fraudulent'] == True]['Is Fraudulent'].count()\n",
    "middle_fraudulent_count = middle_customers[middle_customers['Is Fraudulent'] == True]['Is Fraudulent'].count()\n",
    "old_fraudulent_count = old_customers[old_customers['Is Fraudulent'] == True]['Is Fraudulent'].count()\n",
    "\n",
    "# 결과 출력\n",
    "print(\"청년의 사기 거래 횟수:\", young_fraudulent_count)\n",
    "print(\"청년의 사기가 아닌 거래 횟수:\", young_non_fraudulent_count)\n",
    "print(\"중년의 사기 거래 횟수:\", middle_fraudulent_count)\n",
    "print(\"중년의 사기가 아닌 거래 횟수:\", middle_non_fraudulent_count)\n",
    "print(\"노인의 사기 거래 횟수:\", old_fraudulent_count)\n",
    "print(\"노인의 사기가 아닌 거래 횟수:\", old_non_fraudulent_count)\n"
   ]
  },
  {
   "cell_type": "markdown",
   "id": "0ef0b1fe",
   "metadata": {},
   "source": [
    "### 연령 그룹별 신규고객/기존고객 수"
   ]
  },
  {
   "cell_type": "code",
   "execution_count": null,
   "id": "d79d45b2",
   "metadata": {},
   "outputs": [],
   "source": [
    "# 신규 고객과 중반 고객을 구분하기 위한 기준일 설정\n",
    "new_customer_threshold = 90  # 계정 개설일 90일 이하인 경우 신규 고객으로 분류\n",
    "\n",
    "# 각 연령 그룹별 신규 고객과 중반 고객 수 계산\n",
    "young_new_customers_count = young_customers[young_customers['Account Age Days'] <= new_customer_threshold].shape[0]\n",
    "middle_new_customers_count = middle_customers[middle_customers['Account Age Days'] <= new_customer_threshold].shape[0]\n",
    "old_new_customers_count = old_customers[old_customers['Account Age Days'] <= new_customer_threshold].shape[0]\n",
    "\n",
    "# 결과 출력\n",
    "print(\"청년 중 신규 고객 수:\", young_new_customers_count)\n",
    "print(\"중년 중 신규 고객 수:\", middle_new_customers_count)\n",
    "print(\"노인 중 신규 고객 수:\", old_new_customers_count)\n",
    "\n",
    "# 각 연령 그룹별 신규 고객이 아닌 사람 수 계산\n",
    "young_existing_customers_count = young_customers[young_customers['Account Age Days'] > new_customer_threshold].shape[0]\n",
    "middle_existing_customers_count = middle_customers[middle_customers['Account Age Days'] > new_customer_threshold].shape[0]\n",
    "old_existing_customers_count = old_customers[old_customers['Account Age Days'] > new_customer_threshold].shape[0]\n",
    "\n",
    "# 결과 출력\n",
    "print(\"청년 중 신규 고객이 아닌 사람 수:\", young_existing_customers_count)\n",
    "print(\"중년 중 신규 고객이 아닌 사람 수:\", middle_existing_customers_count)\n",
    "print(\"노인 중 신규 고객이 아닌 사람 수:\", old_existing_customers_count)"
   ]
  },
  {
   "cell_type": "markdown",
   "id": "1e6778c2",
   "metadata": {},
   "source": [
    "### 연령 그룹별 신규고객의 사기거래/정상거래 비율"
   ]
  },
  {
   "cell_type": "code",
   "execution_count": null,
   "id": "c9c4a1a3",
   "metadata": {},
   "outputs": [],
   "source": [
    "# 각 연령 그룹별 신규 가입자의 사기 거래 비율 계산\n",
    "young_new_customers_fraudulent_rate = (young_customers[(young_customers['Account Age Days'] <= new_customer_threshold) & (young_customers['Is Fraudulent'] == True)].shape[0] / young_new_customers_count) * 100\n",
    "middle_new_customers_fraudulent_rate = (middle_customers[(middle_customers['Account Age Days'] <= new_customer_threshold) & (middle_customers['Is Fraudulent'] == True)].shape[0] / middle_new_customers_count) * 100\n",
    "old_new_customers_fraudulent_rate = (old_customers[(old_customers['Account Age Days'] <= new_customer_threshold) & (old_customers['Is Fraudulent'] == True)].shape[0] / old_new_customers_count) * 100\n",
    "\n",
    "# 결과 출력\n",
    "print(\"청년 신규 가입자의 사기 거래 비율:\", round(young_new_customers_fraudulent_rate, 2), \"%\")\n",
    "print(\"중년 신규 가입자의 사기 거래 비율:\", round(middle_new_customers_fraudulent_rate, 2), \"%\")\n",
    "print(\"노인 신규 가입자의 사기 거래 비율:\", round(old_new_customers_fraudulent_rate, 2), \"%\")\n",
    "# 각 연령 그룹별 신규 가입자의 사기가 아닌 거래 비율 계산\n",
    "young_new_customers_non_fraudulent_rate = (young_customers[(young_customers['Account Age Days'] <= new_customer_threshold) & (young_customers['Is Fraudulent'] == False)].shape[0] / young_new_customers_count) * 100\n",
    "middle_new_customers_non_fraudulent_rate = (middle_customers[(middle_customers['Account Age Days'] <= new_customer_threshold) & (middle_customers['Is Fraudulent'] == False)].shape[0] / middle_new_customers_count) * 100\n",
    "old_new_customers_non_fraudulent_rate = (old_customers[(old_customers['Account Age Days'] <= new_customer_threshold) & (old_customers['Is Fraudulent'] == False)].shape[0] / old_new_customers_count) * 100\n",
    "\n",
    "# 결과 출력\n",
    "print(\"청년 신규 가입자의 사기가 아닌 거래 비율:\", round(young_new_customers_non_fraudulent_rate, 2), \"%\")\n",
    "print(\"중년 신규 가입자의 사기가 아닌 거래 비율:\", round(middle_new_customers_non_fraudulent_rate, 2), \"%\")\n",
    "print(\"노인 신규 가입자의 사기가 아닌 거래 비율:\", round(old_new_customers_non_fraudulent_rate, 2), \"%\")"
   ]
  },
  {
   "cell_type": "markdown",
   "id": "d60aaf19",
   "metadata": {},
   "source": [
    "### 연령 그룹별 신규고객의 사기거래/정상거래 비율 시각화"
   ]
  },
  {
   "cell_type": "code",
   "execution_count": null,
   "id": "c7bc016f",
   "metadata": {},
   "outputs": [],
   "source": [
    "# 청년 연령 그룹의 기존 가입자 중 사기 거래 비율 계산\n",
    "young_existing_customers_fraudulent_rate = (young_customers[(young_customers['Account Age Days'] > new_customer_threshold) & (young_customers['Is Fraudulent'] == True)].shape[0] / young_existing_customers_count) * 100\n",
    "# 데이터 준비\n",
    "labels = ['신규 가입자', '기존 가입자']\n",
    "fraudulent_rates = [young_new_customers_fraudulent_rate, young_existing_customers_fraudulent_rate]\n",
    "# 파이차트 그리기\n",
    "plt.figure(figsize=(8, 6))\n",
    "plt.pie(fraudulent_rates, labels=labels, autopct='%1.1f%%', startangle=90, colors=['lightgreen', 'lightcoral'])\n",
    "plt.title('청년 연령 그룹의 사기 거래 비율')\n",
    "plt.axis('equal')\n",
    "plt.tight_layout()\n",
    "plt.show()\n",
    "\n",
    "# 중년 연령 그룹의 신규 가입자 중 사기 거래 비율 계산\n",
    "middle_new_customers_fraudulent_rate = (middle_customers[(middle_customers['Account Age Days'] <= new_customer_threshold) & (middle_customers['Is Fraudulent'] == True)].shape[0] / middle_new_customers_count) * 100\n",
    "# 중년 연령 그룹의 기존 가입자 중 사기 거래 비율 계산\n",
    "middle_existing_customers_fraudulent_rate = (middle_customers[(middle_customers['Account Age Days'] > new_customer_threshold) & (middle_customers['Is Fraudulent'] == True)].shape[0] / middle_existing_customers_count) * 100\n",
    "# 데이터 준비\n",
    "labels = ['신규 가입자', '기존 가입자']\n",
    "fraudulent_rates = [middle_new_customers_fraudulent_rate, middle_existing_customers_fraudulent_rate]\n",
    "# 파이차트 그리기\n",
    "plt.figure(figsize=(8, 6))\n",
    "plt.pie(fraudulent_rates, labels=labels, autopct='%1.1f%%', startangle=90, colors=['lightgreen', 'lightcoral'])\n",
    "plt.title('중년 연령 그룹의 사기 거래 비율')\n",
    "plt.axis('equal')\n",
    "plt.tight_layout()\n",
    "plt.show()\n",
    "# 노인 연령 그룹의 신규 가입자 중 사기 거래 비율 계산\n",
    "\n",
    "old_new_customers_fraudulent_rate = (old_customers[(old_customers['Account Age Days'] <= new_customer_threshold) & (old_customers['Is Fraudulent'] == True)].shape[0] / old_new_customers_count) * 100\n",
    "# 노인 연령 그룹의 기존 가입자 중 사기 거래 비율 계산\n",
    "old_existing_customers_fraudulent_rate = (old_customers[(old_customers['Account Age Days'] > new_customer_threshold) & (old_customers['Is Fraudulent'] == True)].shape[0] / old_existing_customers_count) * 100\n",
    "# 데이터 준비\n",
    "labels = ['신규 가입자', '기존 가입자']\n",
    "fraudulent_rates = [old_new_customers_fraudulent_rate, old_existing_customers_fraudulent_rate]\n",
    "# 파이차트 그리기\n",
    "plt.figure(figsize=(8, 6))\n",
    "plt.pie(fraudulent_rates, labels=labels, autopct='%1.1f%%', startangle=90, colors=['lightgreen', 'lightcoral'])\n",
    "plt.title('노인 연령 그룹의 사기 거래 비율')\n",
    "plt.axis('equal')\n",
    "plt.tight_layout()\n",
    "plt.show()"
   ]
  },
  {
   "cell_type": "markdown",
   "id": "8a1a5b6f",
   "metadata": {},
   "source": [
    "### 연령별 나이에 따른 사기 거래 횟수 변화"
   ]
  },
  {
   "cell_type": "code",
   "execution_count": null,
   "id": "e4be4dbb",
   "metadata": {},
   "outputs": [],
   "source": [
    "plt.style.use('Solarize_Light2')\n",
    "\n",
    "# 청년, 중년, 노인의 나이별 사기 거래 횟수 계산\n",
    "young_fraud_counts = cheated_df[cheated_df['Age Group'] == '청년'].groupby('Customer Age')['Is Fraudulent'].sum()\n",
    "middle_fraud_counts = cheated_df[cheated_df['Age Group'] == '중년'].groupby('Customer Age')['Is Fraudulent'].sum()\n",
    "old_fraud_counts = cheated_df[cheated_df['Age Group'] == '노인'].groupby('Customer Age')['Is Fraudulent'].sum()\n",
    "\n",
    "# 그래프 그리기\n",
    "plt.figure(figsize=(10, 6))\n",
    "sns.lineplot(data=young_fraud_counts, label='청년', marker='o')\n",
    "sns.lineplot(data=middle_fraud_counts, label='중년', marker='o')\n",
    "sns.lineplot(data=old_fraud_counts, label='노인', marker='o')\n",
    "\n",
    "plt.title('연령별 나이에 따른 사기 거래 횟수 변화')\n",
    "plt.xlabel('고객 나이')\n",
    "plt.ylabel('사기 거래 횟수')\n",
    "plt.legend(title='연령 그룹')\n",
    "plt.grid(True)\n",
    "plt.show()"
   ]
  },
  {
   "cell_type": "markdown",
   "id": "1376a2d8",
   "metadata": {},
   "source": [
    "### 연령 그룹별 장치 사용과 사기 거래"
   ]
  },
  {
   "cell_type": "code",
   "execution_count": null,
   "id": "3d4bae3b",
   "metadata": {},
   "outputs": [],
   "source": [
    "# 각 연령 그룹에서 사용된 장치와 사기 거래 여부에 대한 데이터 추출\n",
    "device_fraud_data = cheated_df.groupby(['Age Group', 'Device Used'])['Is Fraudulent'].sum().reset_index()\n",
    "\n",
    "# 피벗 테이블 생성\n",
    "pivot_table = device_fraud_data.pivot_table(index='Device Used', columns='Age Group', values='Is Fraudulent', aggfunc='sum', fill_value=0)\n",
    "\n",
    "# 표 출력\n",
    "print(pivot_table)"
   ]
  },
  {
   "cell_type": "code",
   "execution_count": null,
   "id": "2a922eee",
   "metadata": {},
   "outputs": [],
   "source": [
    "# 시각화에 사용할 데이터 생성\n",
    "device_fraud_data = cheated_df.groupby(['Age Group', 'Device Used'])['Is Fraudulent'].sum().reset_index()\n",
    "\n",
    "# 연령 그룹별 장치 사용량과 사기 거래 횟수를 점의 크기로 나타내는 scatter plot 그리기\n",
    "plt.figure(figsize=(10, 6))\n",
    "sns.scatterplot(data=device_fraud_data, x='Device Used', y='Age Group', size='Is Fraudulent', hue='Is Fraudulent', palette='Reds', sizes=(50, 500))\n",
    "plt.title('연령 그룹별 장치 사용과 사기 거래')\n",
    "plt.xlabel('사용된 장치')\n",
    "plt.ylabel('연령 그룹')\n",
    "plt.legend(title='사기 거래', loc='upper right')\n",
    "plt.show()"
   ]
  },
  {
   "cell_type": "markdown",
   "id": "3e59bd96",
   "metadata": {},
   "source": [
    "### 신규 가입자의 사기거래 횟수 및 장치 / 신규 가입자의 연령 그룹별 사기 거래 비율"
   ]
  },
  {
   "cell_type": "code",
   "execution_count": null,
   "id": "ac17e4d1",
   "metadata": {},
   "outputs": [],
   "source": [
    "# 신규 가입자들의 데이터 추출\n",
    "new_customers = cheated_df[cheated_df['Account Age Days'] < 30]\n",
    "\n",
    "# 신규 가입자들이 사기를 당한 횟수와 당한 장치를 계산\n",
    "new_fraud_counts = new_customers.groupby('Device Used')['Is Fraudulent'].sum()\n",
    "new_fraud_counts_sorted = new_fraud_counts.sort_values(ascending=False)\n",
    "\n",
    "# 연령 그룹별로 어떤 층이 더 많은 사기를 당했는지 확인\n",
    "age_group_counts = new_customers['Age Group'].value_counts()\n",
    "\n",
    "# 시각화\n",
    "plt.figure(figsize=(10, 6))\n",
    "\n",
    "# 신규 가입자들이 사기를 당한 횟수와 당한 장치를 막대 그래프로 표시\n",
    "plt.subplot(1, 2, 1)\n",
    "new_fraud_counts_sorted.plot(kind='bar', color='skyblue')\n",
    "plt.title('신규 가입자의 사기 거래 횟수 및 장치')\n",
    "plt.xlabel('장치')\n",
    "plt.ylabel('사기 거래 횟수')\n",
    "\n",
    "# 연령 그룹별로 어떤 층이 더 많은 사기를 당했는지 파이 차트로 표시\n",
    "plt.subplot(1, 2, 2)\n",
    "plt.pie(age_group_counts, labels=age_group_counts.index, autopct='%1.1f%%', colors=['lightcoral', 'lightgreen', 'lightskyblue'])\n",
    "plt.title('신규 가입자의 연령 그룹별 사기 거래 비율')\n",
    "\n",
    "plt.tight_layout()\n",
    "plt.show()"
   ]
  },
  {
   "cell_type": "markdown",
   "id": "6aaa9f44",
   "metadata": {},
   "source": [
    "### 기존 가입자의 사기거래 횟수 및 장치 / 기존 가입자의 연령 그룹별 사기 거래 비율"
   ]
  },
  {
   "cell_type": "code",
   "execution_count": null,
   "id": "8c5f5623",
   "metadata": {},
   "outputs": [],
   "source": [
    "# 기존 가입자들의 데이터 추출\n",
    "existing_customers = cheated_df[cheated_df['Account Age Days'] >= 30]\n",
    "\n",
    "# 기존 가입자들이 사기를 당한 횟수와 당한 장치를 계산\n",
    "existing_fraud_counts = existing_customers.groupby('Device Used')['Is Fraudulent'].sum()\n",
    "existing_fraud_counts_sorted = existing_fraud_counts.sort_values(ascending=False)\n",
    "\n",
    "# 연령 그룹별로 어떤 층이 더 많은 사기를 당했는지 확인\n",
    "age_group_counts = existing_customers['Age Group'].value_counts()\n",
    "\n",
    "# 시각화\n",
    "plt.figure(figsize=(10, 6))\n",
    "\n",
    "# 기존 가입자들이 사기를 당한 횟수와 당한 장치를 막대 그래프로 표시\n",
    "plt.subplot(1, 2, 1)\n",
    "existing_fraud_counts_sorted.plot(kind='bar', color='lightgreen')\n",
    "plt.title('기존 가입자의 사기 거래 횟수 및 장치')\n",
    "plt.xlabel('장치')\n",
    "plt.ylabel('사기 거래 횟수')\n",
    "\n",
    "# 연령 그룹별로 어떤 층이 더 많은 사기를 당했는지 파이 차트로 표시\n",
    "plt.subplot(1, 2, 2)\n",
    "plt.pie(age_group_counts, labels=age_group_counts.index, autopct='%1.1f%%', colors=['lightcoral', 'lightgreen', 'lightskyblue'])\n",
    "plt.title('기존 가입자의 연령 그룹별 사기 거래 비율')\n",
    "\n",
    "plt.tight_layout()\n",
    "plt.show()"
   ]
  },
  {
   "cell_type": "markdown",
   "id": "44c80350",
   "metadata": {},
   "source": [
    "### 원래 기존 데이터와 분석한 데이터의 사기율 일치 확인"
   ]
  },
  {
   "cell_type": "code",
   "execution_count": null,
   "id": "ff3ee074",
   "metadata": {},
   "outputs": [],
   "source": [
    "# 원래 데이터에서의 사기 거래 비율 계산\n",
    "original_fraud_rate = cheated_df['Is Fraudulent'].mean()\n",
    "\n",
    "# 분석한 사기 거래 비율 계산\n",
    "analyzed_fraud_rate = (young_fraud_counts.sum() + middle_fraud_counts.sum() + old_fraud_counts.sum()) / len(cheated_df)\n",
    "\n",
    "# 분석 결과와 원래 데이터의 사기 거래 비율 일치율 계산\n",
    "match_rate = analyzed_fraud_rate / original_fraud_rate\n",
    "\n",
    "print(\"분석한 사기 거래 비율:\", analyzed_fraud_rate)\n",
    "print(\"원래 데이터의 사기 거래 비율:\", original_fraud_rate)\n",
    "print(\"분석 결과와 원래 데이터의 사기 거래 비율 일치율:\", match_rate)"
   ]
  }
 ],
 "metadata": {
  "kernelspec": {
   "display_name": "Python 3 (ipykernel)",
   "language": "python",
   "name": "python3"
  },
  "language_info": {
   "codemirror_mode": {
    "name": "ipython",
    "version": 3
   },
   "file_extension": ".py",
   "mimetype": "text/x-python",
   "name": "python",
   "nbconvert_exporter": "python",
   "pygments_lexer": "ipython3",
   "version": "3.9.12"
  }
 },
 "nbformat": 4,
 "nbformat_minor": 5
}
